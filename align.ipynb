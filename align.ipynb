{
 "cells": [
  {
   "cell_type": "code",
   "execution_count": 2,
   "metadata": {},
   "outputs": [],
   "source": [
    "# wav = \"./audio/Pages/Masu/1_Affirmative/3_食べます_たべます_to eat_0_L2.wav\"\n",
    "wav = \"./audio/Pages/Masu/1_Affirmative/13_勉強します_べんきょうします_to study_0_L2.wav\"\n",
    "kana = \"べんきょうします\"\n"
   ]
  },
  {
   "cell_type": "code",
   "execution_count": 3,
   "metadata": {},
   "outputs": [],
   "source": [
    "import librosa\n",
    "import soundfile\n",
    "data, sample_rate = librosa.load(wav, mono=False)\n",
    "data_mono = librosa.to_mono(data)\n",
    "soundfile.write(\"align/word.wav\", data_mono, sample_rate)"
   ]
  },
  {
   "cell_type": "code",
   "execution_count": 4,
   "metadata": {},
   "outputs": [
    {
     "data": {
      "text/plain": [
       "1.1500226757369614"
      ]
     },
     "execution_count": 4,
     "metadata": {},
     "output_type": "execute_result"
    }
   ],
   "source": [
    "len(data_mono) / sample_rate"
   ]
  },
  {
   "cell_type": "code",
   "execution_count": 5,
   "metadata": {},
   "outputs": [],
   "source": [
    "with open(\"align/word.txt\", \"w\") as f:\n",
    "    f.write(f\"0.0,{len(data_mono)/sample_rate},{kana}\")"
   ]
  },
  {
   "cell_type": "code",
   "execution_count": 6,
   "metadata": {},
   "outputs": [],
   "source": [
    "from pyjuliusalign import alignFromTextgrid"
   ]
  },
  {
   "cell_type": "code",
   "execution_count": 7,
   "metadata": {},
   "outputs": [
    {
     "name": "stdout",
     "output_type": "stream",
     "text": [
      "\n",
      "\n",
      "Number of transcripts converted: 1\n",
      "Number of unnamed entities: 0\n",
      "Number of unidentified utterances: 0\n",
      "Number of words processed without error: 2\n",
      "/usr/bin/perl /home/murtaza/segmentation-kit/segment_julius.pl /home/murtaza/yale/koutei/align/align_tmp\n",
      "1 intervals of 1 total intervals (100.00%) and 2 phones of 2 total phones (100.00%) successfully aligned for word\n",
      "====Summary====\n",
      "1 intervals of 1 total intervals (100.00%) and 2 phones of 2 total phones (100.00%) successfully aligned\n"
     ]
    },
    {
     "name": "stderr",
     "output_type": "stream",
     "text": [
      "enter filename->.................................................................................................................enter filename->1 files processed\n"
     ]
    }
   ],
   "source": [
    "soxPath = \"/usr/bin/sox\"\n",
    "cabochaPath = \"/usr/local/bin/cabocha\"\n",
    "perlPath = \"/usr/bin/perl\"\n",
    "juliusScriptPath = \"/home/murtaza/segmentation-kit/segment_julius.pl\"\n",
    "import os\n",
    "os.environ[\"LD_LIBRARY_PATH\"] = \"/usr/local/lib\"\n",
    "\n",
    "alignFromTextgrid.convertCorpusToKanaAndRomaji(\n",
    "    inputPath=\"align\",\n",
    "    outputPath=\"align/cabocha_out\",\n",
    "    cabochaEncoding=\"utf-8\",\n",
    "    cabochaPath=cabochaPath,\n",
    "    encoding=\"utf-8\",\n",
    ")\n",
    "alignFromTextgrid.forceAlignCorpus(\n",
    "    wavPath=\"align\",\n",
    "    txtPath=\"align/cabocha_out/\",\n",
    "    outputPath=\"align/output\",\n",
    "    juliusScriptPath=juliusScriptPath,\n",
    "    soxPath=soxPath,\n",
    "    perlPath=perlPath,\n",
    ")"
   ]
  },
  {
   "cell_type": "code",
   "execution_count": 8,
   "metadata": {},
   "outputs": [],
   "source": [
    "from praatio import tgio\n",
    "tg = tgio.openTextgrid(\"align/output/word.TextGrid\")"
   ]
  },
  {
   "cell_type": "code",
   "execution_count": 9,
   "metadata": {},
   "outputs": [
    {
     "data": {
      "text/plain": [
       "[(0.0725, 'b'),\n",
       " (0.1025, 'e'),\n",
       " (0.1825, 'N'),\n",
       " (0.3325, 'ky'),\n",
       " (0.4325, 'o:'),\n",
       " (0.5425, 'sh'),\n",
       " (0.6825, 'i'),\n",
       " (0.7125, 'm'),\n",
       " (0.7925, 'a'),\n",
       " (0.8725, 's'),\n",
       " (0.9925, 'u'),\n",
       " (1.1125, 'silE')]"
      ]
     },
     "execution_count": 9,
     "metadata": {},
     "output_type": "execute_result"
    }
   ],
   "source": [
    "alignment = tg.tierDict[\"phones_word\"].entryList\n",
    "onsets = [(interval.start, interval.label) for interval in alignment[1:]]\n",
    "onsets"
   ]
  },
  {
   "cell_type": "code",
   "execution_count": 10,
   "metadata": {},
   "outputs": [],
   "source": [
    "kana_to_phones = {\n",
    "    \"た\": \"t\",\n",
    "    \"べ\": \"b\",\n",
    "    \"ま\": \"m\",\n",
    "    \"す\": \"s\",\n",
    "    \"ん\": \"N\",\n",
    "    \"き\": \"k\",\n",
    "    \"し\": \"sh\",\n",
    "    \"う\": \"u\",\n",
    "}"
   ]
  },
  {
   "cell_type": "code",
   "execution_count": 14,
   "metadata": {},
   "outputs": [],
   "source": [
    "def align_onsets_kana(onsets, kana):\n",
    "    i = 0\n",
    "    j = 0\n",
    "    kana_offsets = []\n",
    "    while i < len(kana):\n",
    "        if kana[i] == \"ょ\":\n",
    "            time, old_kana = kana_offsets[-1]\n",
    "            kana_offsets[-1] = (time, old_kana + \"ょ\")\n",
    "            if kana[i+1] == \"う\":\n",
    "                while onsets[j][1] != \"o:\":\n",
    "                    j += 1\n",
    "                kana_offsets.append((onsets[j][0], \"う\"))\n",
    "                i += 2\n",
    "            else: #not sure if this works\n",
    "                while onsets[j][1] != \"o\":\n",
    "                    j += 1\n",
    "                i += 1\n",
    "        else:\n",
    "            onset_ipa = kana_to_phones[kana[i]]\n",
    "            while not onsets[j][1].startswith(onset_ipa):\n",
    "                j += 1\n",
    "            kana_offsets.append((onsets[j][0], kana[i]))\n",
    "            i += 1\n",
    "    kana_offsets.append((onsets[-1][0], \"$\"))\n",
    "    return kana_offsets\n"
   ]
  },
  {
   "cell_type": "code",
   "execution_count": 15,
   "metadata": {},
   "outputs": [
    {
     "data": {
      "text/plain": [
       "[(0.0725, 'べ'),\n",
       " (0.1825, 'ん'),\n",
       " (0.3325, 'きょ'),\n",
       " (0.4325, 'う'),\n",
       " (0.5425, 'し'),\n",
       " (0.7125, 'ま'),\n",
       " (0.8725, 'す'),\n",
       " (1.1125, '$')]"
      ]
     },
     "execution_count": 15,
     "metadata": {},
     "output_type": "execute_result"
    }
   ],
   "source": [
    "align_onsets_kana(onsets, kana)"
   ]
  },
  {
   "cell_type": "code",
   "execution_count": 13,
   "metadata": {},
   "outputs": [
    {
     "data": {
      "image/png": "[encoded data removed]",
      "text/plain": [
       "<Figure size 640x480 with 1 Axes>"
      ]
     },
     "metadata": {},
     "output_type": "display_data"
    }
   ],
   "source": [
    "import matplotlib.pyplot as plt\n",
    "fig, ax = plt.subplots()\n",
    "ax.plot(data_mono)\n",
    "for time, label in onsets:\n",
    "    ax.axvline(\n",
    "        time * sample_rate,\n",
    "        -1, 1,\n",
    "        color=\"grey\",\n",
    "    )\n",
    "    ax.text(time * sample_rate, 0.9, label, transform=ax.get_xaxis_transform())\n",
    "for time, label in align_onsets_kana(onsets, kana):\n",
    "    ax.axvline(\n",
    "        time * sample_rate,\n",
    "        -1, 1,\n",
    "        color=\"pink\",\n",
    "    )\n",
    "    ax.text(time * sample_rate,\n",
    "        0.95,\n",
    "        label,\n",
    "        transform=ax.get_xaxis_transform(),\n",
    "        fontname=\"TakaoMincho\"\n",
    "    )"
   ]
  }
 ],
 "metadata": {
  "kernelspec": {
   "display_name": "koutei",
   "language": "python",
   "name": "python3"
  },
  "language_info": {
   "codemirror_mode": {
    "name": "ipython",
    "version": 3
   },
   "file_extension": ".py",
   "mimetype": "text/x-python",
   "name": "python",
   "nbconvert_exporter": "python",
   "pygments_lexer": "ipython3",
   "version": "3.10.7"
  },
  "orig_nbformat": 4,
  "vscode": {
   "interpreter": {
    "hash": "5b89340d689fdc020b02ad9550722dcd7f4831b539c9fb1967c42638fe058074"
   }
  }
 },
 "nbformat": 4,
 "nbformat_minor": 2
}
