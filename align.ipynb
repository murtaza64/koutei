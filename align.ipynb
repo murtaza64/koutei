{
 "cells": [
  {
   "cell_type": "code",
   "execution_count": 37,
   "metadata": {},
   "outputs": [],
   "source": [
    "# wav = \"./audio/Pages/Masu/1_Affirmative/3_食べます_たべます_to eat_0_L2.wav\"\n",
    "wav = \"./audio/Pages/Masu/1_Affirmative/13_勉強します_べんきょうします_to study_0_L2.wav\"\n",
    "kana = \"べんきょうします\"\n"
   ]
  },
  {
   "cell_type": "code",
   "execution_count": 42,
   "metadata": {},
   "outputs": [],
   "source": [
    "import librosa\n",
    "import soundfile\n",
    "data, sample_rate = librosa.load(wav, mono=False)\n",
    "data_mono = librosa.to_mono(data)\n",
    "soundfile.write(\"align/word.wav\", data_mono, sample_rate)"
   ]
  },
  {
   "cell_type": "code",
   "execution_count": 39,
   "metadata": {},
   "outputs": [
    {
     "data": {
      "text/plain": [
       "1.1500226757369614"
      ]
     },
     "execution_count": 39,
     "metadata": {},
     "output_type": "execute_result"
    }
   ],
   "source": [
    "len(data_mono) / sample_rate"
   ]
  },
  {
   "cell_type": "code",
   "execution_count": 43,
   "metadata": {},
   "outputs": [],
   "source": [
    "with open(\"align/word.txt\", \"w\") as f:\n",
    "    f.write(f\"0.0,{len(data_mono)/sample_rate},{kana}\")"
   ]
  },
  {
   "cell_type": "code",
   "execution_count": 44,
   "metadata": {},
   "outputs": [],
   "source": [
    "from pyjuliusalign import alignFromTextgrid"
   ]
  },
  {
   "cell_type": "code",
   "execution_count": 46,
   "metadata": {},
   "outputs": [
    {
     "name": "stdout",
     "output_type": "stream",
     "text": [
      "\n",
      "\n",
      "Number of transcripts converted: 1\n",
      "Number of unnamed entities: 0\n",
      "Number of unidentified utterances: 0\n",
      "Number of words processed without error: 2\n",
      "/usr/bin/perl /home/murtaza/segmentation-kit/segment_julius.pl /home/murtaza/yale/cs490/align/align_tmp\n",
      "1 intervals of 1 total intervals (100.00%) and 2 phones of 2 total phones (100.00%) successfully aligned for word\n",
      "====Summary====\n",
      "1 intervals of 1 total intervals (100.00%) and 2 phones of 2 total phones (100.00%) successfully aligned\n"
     ]
    },
    {
     "name": "stderr",
     "output_type": "stream",
     "text": [
      "enter filename->.................................................................................................................enter filename->1 files processed\n"
     ]
    }
   ],
   "source": [
    "soxPath = \"/usr/bin/sox\"\n",
    "cabochaPath = \"/usr/local/bin/cabocha\"\n",
    "perlPath = \"/usr/bin/perl\"\n",
    "juliusScriptPath = \"/home/murtaza/segmentation-kit/segment_julius.pl\"\n",
    "import os\n",
    "os.environ[\"LD_LIBRARY_PATH\"] = \"/usr/local/lib\"\n",
    "\n",
    "alignFromTextgrid.convertCorpusToKanaAndRomaji(\n",
    "    inputPath=\"align\",\n",
    "    outputPath=\"align/cabocha_out\",\n",
    "    cabochaEncoding=\"utf-8\",\n",
    "    cabochaPath=cabochaPath,\n",
    "    encoding=\"utf-8\",\n",
    ")\n",
    "alignFromTextgrid.forceAlignCorpus(\n",
    "    wavPath=\"align\",\n",
    "    txtPath=\"align/cabocha_out/\",\n",
    "    outputPath=\"align/output\",\n",
    "    juliusScriptPath=juliusScriptPath,\n",
    "    soxPath=soxPath,\n",
    "    perlPath=perlPath,\n",
    ")"
   ]
  },
  {
   "cell_type": "code",
   "execution_count": 48,
   "metadata": {},
   "outputs": [],
   "source": [
    "from praatio import tgio\n",
    "tg = tgio.openTextgrid(\"align/output/word.TextGrid\")"
   ]
  },
  {
   "cell_type": "code",
   "execution_count": 49,
   "metadata": {},
   "outputs": [
    {
     "data": {
      "text/plain": [
       "[(0.0725, 'b'),\n",
       " (0.1025, 'e'),\n",
       " (0.1825, 'N'),\n",
       " (0.3325, 'ky'),\n",
       " (0.4325, 'o:'),\n",
       " (0.5425, 'sh'),\n",
       " (0.6825, 'i'),\n",
       " (0.7125, 'm'),\n",
       " (0.7925, 'a'),\n",
       " (0.8725, 's'),\n",
       " (0.9925, 'u')]"
      ]
     },
     "execution_count": 49,
     "metadata": {},
     "output_type": "execute_result"
    }
   ],
   "source": [
    "alignment = tg.tierDict[\"phones_word\"].entryList\n",
    "onsets = [(interval.start, interval.label) for interval in alignment[1:-1]]\n",
    "onsets"
   ]
  },
  {
   "cell_type": "code",
   "execution_count": 58,
   "metadata": {},
   "outputs": [],
   "source": [
    "kana_to_phones = {\n",
    "    \"た\": \"t\",\n",
    "    \"べ\": \"b\",\n",
    "    \"ま\": \"m\",\n",
    "    \"す\": \"s\",\n",
    "    \"ん\": \"N\",\n",
    "    \"き\": \"k\",\n",
    "    \"し\": \"sh\",\n",
    "    \"う\": \"u\",\n",
    "}"
   ]
  },
  {
   "cell_type": "code",
   "execution_count": 66,
   "metadata": {},
   "outputs": [],
   "source": [
    "def align_onsets_kana(onsets, kana):\n",
    "    i = 0\n",
    "    j = 0\n",
    "    kana_offsets = []\n",
    "    while i < len(kana):\n",
    "        if kana[i] == \"ょ\":\n",
    "            time, old_kana = kana_offsets[-1]\n",
    "            kana_offsets[-1] = (time, old_kana + \"ょ\")\n",
    "            if kana[i+1] == \"う\":\n",
    "                while onsets[j][1] != \"o:\":\n",
    "                    j += 1\n",
    "                kana_offsets.append((onsets[j][0], \"う\"))\n",
    "                i += 2\n",
    "            else: #not sure if this works\n",
    "                while onsets[j][1] != \"o\":\n",
    "                    j += 1\n",
    "                i += 1\n",
    "        else:\n",
    "            onset_ipa = kana_to_phones[kana[i]]\n",
    "            while not onsets[j][1].startswith(onset_ipa):\n",
    "                j += 1\n",
    "            kana_offsets.append((onsets[j][0], kana[i]))\n",
    "            i += 1\n",
    "    return kana_offsets\n"
   ]
  },
  {
   "cell_type": "code",
   "execution_count": 67,
   "metadata": {},
   "outputs": [
    {
     "name": "stdout",
     "output_type": "stream",
     "text": [
      "べ\n",
      "b\n",
      "ん\n",
      "N\n",
      "き\n",
      "k\n",
      "ょ\n",
      "し\n",
      "sh\n",
      "ま\n",
      "m\n",
      "す\n",
      "s\n"
     ]
    },
    {
     "data": {
      "text/plain": [
       "[(0.0725, 'べ'),\n",
       " (0.1825, 'ん'),\n",
       " (0.3325, 'きょ'),\n",
       " (0.4325, 'う'),\n",
       " (0.5425, 'し'),\n",
       " (0.7125, 'ま'),\n",
       " (0.8725, 'す')]"
      ]
     },
     "execution_count": 67,
     "metadata": {},
     "output_type": "execute_result"
    }
   ],
   "source": [
    "align_onsets_kana(onsets, kana)"
   ]
  },
  {
   "cell_type": "code",
   "execution_count": 68,
   "metadata": {},
   "outputs": [
    {
     "name": "stdout",
     "output_type": "stream",
     "text": [
      "べ\n",
      "b\n",
      "ん\n",
      "N\n",
      "き\n",
      "k\n",
      "ょ\n",
      "し\n",
      "sh\n",
      "ま\n",
      "m\n",
      "す\n",
      "s\n"
     ]
    },
    {
     "data": {
      "image/png": "[encoded data removed]",
      "text/plain": [
       "<Figure size 640x480 with 1 Axes>"
      ]
     },
     "metadata": {},
     "output_type": "display_data"
    }
   ],
   "source": [
    "import matplotlib.pyplot as plt\n",
    "fig, ax = plt.subplots()\n",
    "ax.plot(data_mono)\n",
    "for time, label in onsets:\n",
    "    ax.axvline(\n",
    "        time * sample_rate,\n",
    "        -1, 1,\n",
    "        color=\"grey\",\n",
    "    )\n",
    "    ax.text(time * sample_rate, 0.9, label, transform=ax.get_xaxis_transform())\n",
    "for time, label in align_onsets_kana(onsets, kana):\n",
    "    ax.axvline(\n",
    "        time * sample_rate,\n",
    "        -1, 1,\n",
    "        color=\"pink\",\n",
    "    )\n",
    "    ax.text(time * sample_rate,\n",
    "        0.95,\n",
    "        label,\n",
    "        transform=ax.get_xaxis_transform(),\n",
    "        fontname=\"TakaoMincho\"\n",
    "    )"
   ]
  },
  {
   "cell_type": "code",
   "execution_count": 34,
   "metadata": {},
   "outputs": [
    {
     "data": {
      "text/plain": [
       "['/usr/share/texmf/fonts/opentype/public/tex-gyre/texgyreschola-bolditalic.otf',\n",
       " '/usr/share/fonts/truetype/lato/Lato-SemiboldItalic.ttf',\n",
       " '/usr/share/texmf/fonts/opentype/public/lm/lmromancaps10-oblique.otf',\n",
       " '/usr/share/texmf/fonts/opentype/public/lm/lmroman9-regular.otf',\n",
       " '/usr/share/texmf/fonts/opentype/public/lm/lmmono10-italic.otf',\n",
       " '/usr/share/fonts/truetype/lato/Lato-HeavyItalic.ttf',\n",
       " '/usr/share/texmf/fonts/opentype/public/tex-gyre/texgyrebonum-italic.otf',\n",
       " '/usr/share/texmf/fonts/opentype/public/lm/lmsans9-regular.otf',\n",
       " '/usr/share/texmf/fonts/opentype/public/lm/lmromanslant10-bold.otf',\n",
       " '/usr/share/fonts/truetype/dejavu/DejaVuSans-Oblique.ttf',\n",
       " '/usr/share/fonts/opentype/urw-base35/C059-BdIta.otf',\n",
       " '/usr/share/fonts/truetype/lato/Lato-Hairline.ttf',\n",
       " '/usr/share/texmf/fonts/opentype/public/tex-gyre/texgyreheroscn-italic.otf',\n",
       " '/usr/share/fonts/truetype/lato/Lato-Bold.ttf',\n",
       " '/usr/share/fonts/truetype/lato/Lato-ThinItalic.ttf',\n",
       " '/usr/share/fonts/opentype/mathjax/MathJax_Typewriter-Regular.otf',\n",
       " '/usr/share/fonts/opentype/urw-base35/URWGothic-Book.otf',\n",
       " '/usr/share/texmf/fonts/opentype/public/tex-gyre/texgyrecursor-bolditalic.otf',\n",
       " '/usr/share/fonts/truetype/lato/Lato-Light.ttf',\n",
       " '/usr/share/fonts/truetype/lato/Lato-Semibold.ttf',\n",
       " '/usr/share/fonts/opentype/urw-base35/URWBookman-Demi.otf',\n",
       " '/usr/share/fonts/opentype/urw-base35/NimbusMonoPS-Regular.otf',\n",
       " '/usr/share/fonts/opentype/urw-base35/P052-Italic.otf',\n",
       " '/usr/share/fonts/truetype/dejavu/DejaVuSansMono-Bold.ttf',\n",
       " '/usr/share/texmf/fonts/opentype/public/tex-gyre/texgyrechorus-mediumitalic.otf',\n",
       " '/usr/share/fonts/truetype/dejavu/DejaVuSerif-Bold.ttf',\n",
       " '/usr/share/fonts/truetype/lato/Lato-BlackItalic.ttf',\n",
       " '/usr/share/fonts/truetype/lato/Lato-Italic.ttf',\n",
       " '/usr/share/texmf/fonts/opentype/public/lm/lmmonoproplt10-bold.otf',\n",
       " '/usr/share/texmf/fonts/opentype/public/lm/lmmonoproplt10-regular.otf',\n",
       " '/usr/share/texmf/fonts/opentype/public/lm/lmsans12-oblique.otf',\n",
       " '/usr/share/fonts/opentype/mathjax/MathJax_Size2-Regular.otf',\n",
       " '/usr/share/texmf/fonts/opentype/public/lm/lmroman6-regular.otf',\n",
       " '/usr/share/fonts/opentype/urw-base35/URWBookman-LightItalic.otf',\n",
       " '/usr/share/fonts/truetype/glyphicons/glyphicons-halflings-regular.ttf',\n",
       " '/usr/share/fonts/opentype/mathjax/MathJax_Math-Italic.otf',\n",
       " '/usr/share/texmf/fonts/opentype/public/tex-gyre-math/texgyrebonum-math.otf',\n",
       " '/usr/share/texmf/fonts/opentype/public/tex-gyre/texgyretermes-bolditalic.otf',\n",
       " '/usr/share/fonts/opentype/urw-base35/NimbusSans-Regular.otf',\n",
       " '/usr/share/texmf/fonts/opentype/public/lm/lmmono9-regular.otf',\n",
       " '/usr/share/fonts/opentype/mathjax/MathJax_Main-Italic.otf',\n",
       " '/usr/share/texmf/fonts/opentype/public/tex-gyre-math/texgyrepagella-math.otf',\n",
       " '/usr/share/texmf/fonts/opentype/public/lm/lmsans8-oblique.otf',\n",
       " '/usr/share/texmf/fonts/opentype/public/lm/lmroman10-bolditalic.otf',\n",
       " '/usr/share/fonts/opentype/mathjax/MathJax_Caligraphic-Bold.otf',\n",
       " '/usr/share/texmf/fonts/opentype/public/lm/lmsans10-regular.otf',\n",
       " '/usr/share/texmf/fonts/opentype/public/lm/lmsans10-oblique.otf',\n",
       " '/usr/share/texmf/fonts/opentype/public/tex-gyre/texgyreheros-regular.otf',\n",
       " '/usr/share/fonts/opentype/urw-base35/NimbusSans-Bold.otf',\n",
       " '/usr/share/fonts/truetype/dejavu/DejaVuMathTeXGyre.ttf',\n",
       " '/usr/share/texmf/fonts/opentype/public/tex-gyre/texgyreadventor-bolditalic.otf',\n",
       " '/usr/share/texmf/fonts/opentype/public/tex-gyre/texgyrepagella-bold.otf',\n",
       " '/usr/share/texmf/fonts/opentype/public/tex-gyre-math/texgyretermes-math.otf',\n",
       " '/usr/share/fonts/opentype/font-awesome/FontAwesome.otf',\n",
       " '/usr/share/fonts/opentype/urw-base35/D050000L.otf',\n",
       " '/usr/share/texmf/fonts/opentype/public/lm/lmmonoproplt10-boldoblique.otf',\n",
       " '/usr/share/texmf/fonts/opentype/public/tex-gyre/texgyreschola-bold.otf',\n",
       " '/usr/share/texmf/fonts/opentype/public/lm/lmsans17-regular.otf',\n",
       " '/usr/share/fonts/opentype/urw-base35/C059-Italic.otf',\n",
       " '/usr/share/texmf/fonts/opentype/public/lm/lmromanslant9-regular.otf',\n",
       " '/usr/share/fonts/opentype/urw-base35/NimbusRoman-Bold.otf',\n",
       " '/usr/share/fonts/truetype/dejavu/DejaVuSans.ttf',\n",
       " '/usr/share/texmf/fonts/opentype/public/lm/lmromandunh10-regular.otf',\n",
       " '/usr/share/fonts/truetype/lato/Lato-MediumItalic.ttf',\n",
       " '/usr/share/texmf/fonts/opentype/public/lm/lmmonolt10-bold.otf',\n",
       " '/usr/share/fonts/truetype/lato/Lato-Black.ttf',\n",
       " '/usr/share/fonts/opentype/mathjax/MathJax_Size4-Regular.otf',\n",
       " '/usr/share/texmf/fonts/opentype/public/lm/lmsans17-oblique.otf',\n",
       " '/usr/share/texmf/fonts/opentype/public/lm/lmroman8-regular.otf',\n",
       " '/usr/share/fonts/truetype/font-awesome/fontawesome-webfont.ttf',\n",
       " '/usr/share/fonts/truetype/dejavu/DejaVuSerifCondensed.ttf',\n",
       " '/usr/share/fonts/truetype/droid/DroidSansFallbackFull.ttf',\n",
       " '/usr/share/texmf/fonts/opentype/public/lm/lmmonoprop10-oblique.otf',\n",
       " '/usr/share/fonts/truetype/dejavu/DejaVuSansMono.ttf',\n",
       " '/usr/share/texmf/fonts/opentype/public/lm/lmroman8-italic.otf',\n",
       " '/usr/share/texmf/fonts/opentype/public/lm/lmmonoltcond10-regular.otf',\n",
       " '/usr/share/texmf/fonts/opentype/public/tex-gyre/texgyreheros-bold.otf',\n",
       " '/usr/share/fonts/truetype/dejavu/DejaVuSerifCondensed-Italic.ttf',\n",
       " '/usr/share/texmf/fonts/opentype/public/lm/lmsansquot8-regular.otf',\n",
       " '/usr/share/texmf/fonts/opentype/public/tex-gyre/texgyrebonum-bolditalic.otf',\n",
       " '/usr/share/texmf/fonts/opentype/public/lm/lmsansquot8-oblique.otf',\n",
       " '/usr/share/texmf/fonts/opentype/public/lm/lmsansdemicond10-regular.otf',\n",
       " '/usr/share/texmf/fonts/opentype/public/lm/lmmonolt10-regular.otf',\n",
       " '/usr/share/fonts/opentype/urw-base35/NimbusMonoPS-Italic.otf',\n",
       " '/usr/share/texmf/fonts/opentype/public/tex-gyre-math/texgyredejavu-math.otf',\n",
       " '/usr/share/texmf/fonts/opentype/public/lm/lmmonocaps10-oblique.otf',\n",
       " '/usr/share/fonts/truetype/lato/Lato-Thin.ttf',\n",
       " '/usr/share/texmf/fonts/opentype/public/lm/lmsans9-oblique.otf',\n",
       " '/usr/share/texmf/fonts/opentype/public/lm/lmmonoltcond10-oblique.otf',\n",
       " '/usr/share/texmf/fonts/opentype/public/lm/lmsans10-boldoblique.otf',\n",
       " '/usr/share/texmf/fonts/opentype/public/lm/lmromandunh10-oblique.otf',\n",
       " '/usr/share/texmf/fonts/opentype/public/lm/lmroman10-regular.otf',\n",
       " '/usr/share/fonts/truetype/lato/Lato-LightItalic.ttf',\n",
       " '/usr/share/fonts/opentype/urw-base35/C059-Bold.otf',\n",
       " '/usr/share/fonts/truetype/takao-mincho/TakaoMincho.ttf',\n",
       " '/usr/share/texmf/fonts/opentype/public/lm/lmroman6-bold.otf',\n",
       " '/usr/share/texmf/fonts/opentype/public/lm/lmroman5-regular.otf',\n",
       " '/usr/share/texmf/fonts/opentype/public/lm/lmromancaps10-regular.otf',\n",
       " '/usr/share/texmf/fonts/opentype/public/tex-gyre/texgyrecursor-regular.otf',\n",
       " '/usr/share/texmf/fonts/opentype/public/lm/lmmonocaps10-regular.otf',\n",
       " '/usr/share/fonts/opentype/urw-base35/NimbusRoman-Regular.otf',\n",
       " '/usr/share/texmf/fonts/opentype/public/tex-gyre/texgyrepagella-regular.otf',\n",
       " '/usr/share/texmf/fonts/opentype/public/lm/lmsans10-bold.otf',\n",
       " '/usr/share/fonts/opentype/urw-base35/NimbusSans-BoldItalic.otf',\n",
       " '/usr/share/fonts/opentype/urw-base35/C059-Roman.otf',\n",
       " '/usr/share/fonts/opentype/urw-base35/URWGothic-Demi.otf',\n",
       " '/usr/share/texmf/fonts/opentype/public/lm/lmromandemi10-oblique.otf',\n",
       " '/usr/share/fonts/truetype/dejavu/DejaVuSansCondensed-BoldOblique.ttf',\n",
       " '/usr/share/fonts/truetype/dejavu/DejaVuSansCondensed-Bold.ttf',\n",
       " '/usr/share/fonts/opentype/urw-base35/NimbusSansNarrow-Oblique.otf',\n",
       " '/usr/share/fonts/opentype/urw-base35/URWGothic-DemiOblique.otf',\n",
       " '/usr/share/fonts/opentype/urw-base35/URWBookman-Light.otf',\n",
       " '/usr/share/texmf/fonts/opentype/public/lm/lmromanslant10-regular.otf',\n",
       " '/usr/share/fonts/opentype/mathjax/MathJax_SansSerif-Regular.otf',\n",
       " '/usr/share/texmf/fonts/opentype/public/lm/lmroman10-bold.otf',\n",
       " '/usr/share/texmf/fonts/opentype/public/tex-gyre/texgyrepagella-bolditalic.otf',\n",
       " '/usr/share/fonts/opentype/urw-base35/P052-BoldItalic.otf',\n",
       " '/usr/share/fonts/opentype/urw-base35/NimbusSansNarrow-BoldOblique.otf',\n",
       " '/usr/share/fonts/truetype/lato/Lato-BoldItalic.ttf',\n",
       " '/usr/share/texmf/fonts/opentype/public/lm/lmsansdemicond10-oblique.otf',\n",
       " '/usr/share/texmf/fonts/opentype/public/lm/lmromanslant8-regular.otf',\n",
       " '/usr/share/fonts/opentype/urw-base35/NimbusMonoPS-Bold.otf',\n",
       " '/usr/share/texmf/fonts/opentype/public/tex-gyre/texgyrebonum-bold.otf',\n",
       " '/usr/share/texmf/fonts/opentype/public/tex-gyre/texgyreheroscn-bolditalic.otf',\n",
       " '/usr/share/texmf/fonts/opentype/public/tex-gyre-math/texgyreschola-math.otf',\n",
       " '/usr/share/fonts/opentype/urw-base35/NimbusMonoPS-BoldItalic.otf',\n",
       " '/usr/share/texmf/fonts/opentype/public/lm/lmmono12-regular.otf',\n",
       " '/usr/share/fonts/truetype/dejavu/DejaVuSansCondensed-Oblique.ttf',\n",
       " '/usr/share/fonts/truetype/lato/Lato-Medium.ttf',\n",
       " '/usr/share/fonts/truetype/dejavu/DejaVuSansMono-BoldOblique.ttf',\n",
       " '/usr/share/texmf/fonts/opentype/public/tex-gyre/texgyrepagella-italic.otf',\n",
       " '/usr/share/fonts/opentype/urw-base35/NimbusSansNarrow-Regular.otf',\n",
       " '/usr/share/fonts/truetype/lato/Lato-Heavy.ttf',\n",
       " '/usr/share/fonts/opentype/mathjax/MathJax_Size1-Regular.otf',\n",
       " '/usr/share/fonts/truetype/fonts-japanese-mincho.ttf',\n",
       " '/usr/share/texmf/fonts/opentype/public/tex-gyre/texgyreheros-bolditalic.otf',\n",
       " '/usr/share/texmf/fonts/opentype/public/lm/lmmonolt10-boldoblique.otf',\n",
       " '/usr/share/fonts/truetype/dejavu/DejaVuSansMono-Oblique.ttf',\n",
       " '/usr/share/fonts/opentype/mathjax/MathJax_AMS-Regular.otf',\n",
       " '/usr/share/fonts/truetype/dejavu/DejaVuSans-Bold.ttf',\n",
       " '/usr/share/texmf/fonts/opentype/public/lm/lmromanslant17-regular.otf',\n",
       " '/usr/share/texmf/fonts/opentype/public/lm/lmmono10-regular.otf',\n",
       " '/usr/share/texmf/fonts/opentype/public/tex-gyre/texgyreheroscn-bold.otf',\n",
       " '/usr/share/fonts/opentype/mathjax/MathJax_Main-Bold.otf',\n",
       " '/usr/share/texmf/fonts/opentype/public/lm/lmmonoprop10-regular.otf',\n",
       " '/usr/share/fonts/truetype/dejavu/DejaVuSansCondensed.ttf',\n",
       " '/usr/share/texmf/fonts/opentype/public/lm/lmmono8-regular.otf',\n",
       " '/usr/share/fonts/opentype/urw-base35/P052-Bold.otf',\n",
       " '/usr/share/fonts/opentype/urw-base35/P052-Roman.otf',\n",
       " '/usr/share/texmf/fonts/opentype/public/tex-gyre/texgyretermes-regular.otf',\n",
       " '/usr/share/texmf/fonts/opentype/public/lm/lmroman12-regular.otf',\n",
       " '/usr/share/texmf/fonts/opentype/public/tex-gyre/texgyretermes-italic.otf',\n",
       " '/usr/share/fonts/truetype/lato/Lato-Regular.ttf',\n",
       " '/usr/share/fonts/opentype/mathjax/MathJax_Vector-Regular.otf',\n",
       " '/usr/share/fonts/truetype/dejavu/DejaVuSerif-Italic.ttf',\n",
       " '/usr/share/fonts/opentype/mathjax/MathJax_WinChrome-Regular.otf',\n",
       " '/usr/share/fonts/truetype/dejavu/DejaVuSerifCondensed-Bold.ttf',\n",
       " '/usr/share/fonts/truetype/dejavu/DejaVuSans-ExtraLight.ttf',\n",
       " '/usr/share/fonts/truetype/dejavu/DejaVuSerifCondensed-BoldItalic.ttf',\n",
       " '/usr/share/fonts/opentype/urw-base35/NimbusRoman-Italic.otf',\n",
       " '/usr/share/texmf/fonts/opentype/public/lm/lmmonoproplt10-oblique.otf',\n",
       " '/usr/share/fonts/opentype/mathjax/MathJax_Size3-Regular.otf',\n",
       " '/usr/share/fonts/opentype/urw-base35/URWBookman-DemiItalic.otf',\n",
       " '/usr/share/fonts/opentype/mathjax/MathJax_Fraktur-Bold.otf',\n",
       " '/usr/share/fonts/opentype/mathjax/MathJax_SansSerif-Italic.otf',\n",
       " '/usr/share/texmf/fonts/opentype/public/lm/lmroman9-bold.otf',\n",
       " '/usr/share/texmf/fonts/opentype/public/tex-gyre/texgyrebonum-regular.otf',\n",
       " '/usr/share/texmf/fonts/opentype/public/lm-math/latinmodern-math.otf',\n",
       " '/usr/share/texmf/fonts/opentype/public/tex-gyre/texgyreheros-italic.otf',\n",
       " '/usr/share/texmf/fonts/opentype/public/tex-gyre/texgyreschola-regular.otf',\n",
       " '/usr/share/texmf/fonts/opentype/public/lm/lmroman12-bold.otf',\n",
       " '/usr/share/texmf/fonts/opentype/public/lm/lmsansquot8-boldoblique.otf',\n",
       " '/usr/share/fonts/opentype/mathjax/MathJax_Caligraphic-Regular.otf',\n",
       " '/usr/share/texmf/fonts/opentype/public/tex-gyre/texgyrecursor-bold.otf',\n",
       " '/usr/share/fonts/opentype/mathjax/MathJax_Math-BoldItalic.otf',\n",
       " '/usr/share/fonts/opentype/urw-base35/NimbusSansNarrow-Bold.otf',\n",
       " '/usr/share/fonts/truetype/dejavu/DejaVuSerif.ttf',\n",
       " '/usr/share/fonts/opentype/mathjax/MathJax_Main-Regular.otf',\n",
       " '/usr/share/texmf/fonts/opentype/public/tex-gyre/texgyrecursor-italic.otf',\n",
       " '/usr/share/texmf/fonts/opentype/public/lm/lmroman10-italic.otf',\n",
       " '/usr/share/texmf/fonts/opentype/public/tex-gyre/texgyretermes-bold.otf',\n",
       " '/usr/share/texmf/fonts/opentype/public/lm/lmsans8-regular.otf',\n",
       " '/usr/share/fonts/truetype/dejavu/DejaVuSerif-BoldItalic.ttf',\n",
       " '/usr/share/fonts/opentype/urw-base35/NimbusSans-Italic.otf',\n",
       " '/usr/share/texmf/fonts/opentype/public/lm/lmromandemi10-regular.otf',\n",
       " '/usr/share/fonts/opentype/mathjax/MathJax_Script-Regular.otf',\n",
       " '/usr/share/texmf/fonts/opentype/public/lm/lmroman8-bold.otf',\n",
       " '/usr/share/texmf/fonts/opentype/public/lm/lmroman7-italic.otf',\n",
       " '/usr/share/fonts/truetype/noto/NotoMono-Regular.ttf',\n",
       " '/usr/share/fonts/opentype/mathjax/MathJax_Math-Regular.otf',\n",
       " '/usr/share/fonts/opentype/urw-base35/StandardSymbolsPS.otf',\n",
       " '/usr/share/fonts/opentype/mathjax/MathJax_Vector-Bold.otf',\n",
       " '/usr/share/fonts/opentype/urw-base35/NimbusRoman-BoldItalic.otf',\n",
       " '/usr/share/texmf/fonts/opentype/public/lm/lmmonolt10-oblique.otf',\n",
       " '/usr/share/fonts/opentype/mathjax/MathJax_WinIE6-Regular.otf',\n",
       " '/usr/share/fonts/truetype/dejavu/DejaVuSans-BoldOblique.ttf',\n",
       " '/usr/share/texmf/fonts/opentype/public/tex-gyre/texgyreheroscn-regular.otf',\n",
       " '/usr/share/fonts/truetype/lato/Lato-HairlineItalic.ttf',\n",
       " '/usr/share/fonts/opentype/mathjax/MathJax_Fraktur-Regular.otf',\n",
       " '/usr/share/fonts/opentype/mathjax/MathJax_SansSerif-Bold.otf',\n",
       " '/usr/share/texmf/fonts/opentype/public/lm/lmromanunsl10-regular.otf',\n",
       " '/usr/share/texmf/fonts/opentype/public/lm/lmroman12-italic.otf',\n",
       " '/usr/share/fonts/opentype/urw-base35/Z003-MediumItalic.otf',\n",
       " '/usr/share/texmf/fonts/opentype/public/tex-gyre/texgyreadventor-bold.otf',\n",
       " '/usr/share/texmf/fonts/opentype/public/lm/lmromanslant12-regular.otf',\n",
       " '/usr/share/texmf/fonts/opentype/public/tex-gyre/texgyreadventor-regular.otf',\n",
       " '/usr/share/fonts/truetype/takao-mincho/TakaoPMincho.ttf',\n",
       " '/usr/share/texmf/fonts/opentype/public/lm/lmroman7-regular.otf',\n",
       " '/usr/share/texmf/fonts/opentype/public/lm/lmsansquot8-bold.otf',\n",
       " '/usr/share/texmf/fonts/opentype/public/tex-gyre/texgyreadventor-italic.otf',\n",
       " '/usr/share/texmf/fonts/opentype/public/lm/lmroman9-italic.otf',\n",
       " '/usr/share/texmf/fonts/opentype/public/lm/lmsans12-regular.otf',\n",
       " '/usr/share/texmf/fonts/opentype/public/lm/lmroman7-bold.otf',\n",
       " '/usr/share/texmf/fonts/opentype/public/lm/lmroman5-bold.otf',\n",
       " '/usr/share/texmf/fonts/opentype/public/lm/lmmonoslant10-regular.otf',\n",
       " '/usr/share/fonts/opentype/urw-base35/URWGothic-BookOblique.otf',\n",
       " '/usr/share/texmf/fonts/opentype/public/tex-gyre/texgyreschola-italic.otf',\n",
       " '/usr/share/texmf/fonts/opentype/public/lm/lmroman17-regular.otf']"
      ]
     },
     "execution_count": 34,
     "metadata": {},
     "output_type": "execute_result"
    }
   ],
   "source": [
    "import matplotlib.font_manager\n",
    "matplotlib.font_manager.findSystemFonts(fontpaths=None, fontext='ttf')"
   ]
  }
 ],
 "metadata": {
  "kernelspec": {
   "display_name": "koutei",
   "language": "python",
   "name": "python3"
  },
  "language_info": {
   "codemirror_mode": {
    "name": "ipython",
    "version": 3
   },
   "file_extension": ".py",
   "mimetype": "text/x-python",
   "name": "python",
   "nbconvert_exporter": "python",
   "pygments_lexer": "ipython3",
   "version": "3.10.7"
  },
  "orig_nbformat": 4,
  "vscode": {
   "interpreter": {
    "hash": "5b89340d689fdc020b02ad9550722dcd7f4831b539c9fb1967c42638fe058074"
   }
  }
 },
 "nbformat": 4,
 "nbformat_minor": 2
}
