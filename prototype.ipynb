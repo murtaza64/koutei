{
 "cells": [
  {
   "cell_type": "code",
   "execution_count": 1,
   "metadata": {},
   "outputs": [],
   "source": [
    "import librosa\n",
    "import matplotlib.pyplot as plt\n",
    "import numpy as np\n",
    "from scipy.signal import find_peaks\n",
    "import statsmodels.api as sm"
   ]
  },
  {
   "cell_type": "code",
   "execution_count": 3,
   "metadata": {},
   "outputs": [],
   "source": [
    "def partition(lst, size):\n",
    "    for i in range(0, len(lst), size):\n",
    "        yield lst[i : i+size]\n"
   ]
  },
  {
   "cell_type": "code",
   "execution_count": 4,
   "metadata": {},
   "outputs": [],
   "source": [
    "# def acorr(data):\n",
    "#     mean = np.mean(data)\n",
    "#     var = np.var(data)\n",
    "#     acorr = np.correlate(data, data, \"full\")[len(data)-1:]\n",
    "#     # acorr = acorr/var/len(syllable_0)\n",
    "#     return acorr"
   ]
  },
  {
   "cell_type": "code",
   "execution_count": 45,
   "metadata": {},
   "outputs": [],
   "source": [
    "def get_first_strong_peak(x, label=None):\n",
    "    acorr = sm.tsa.acf(x, nlags=2000)\n",
    "    peaks = find_peaks(acorr)[0]\n",
    "    # plt.plot(acorr, label=label)\n",
    "    # plt.legend()\n",
    "    for peak in peaks:\n",
    "        if acorr[peak] > 0.5:\n",
    "            return peak, acorr[peak]\n",
    "    return(-1, 0)\n",
    "\n",
    "def get_syllables_naive(data, n_syll):\n",
    "    return list(partition(data, len(data)//n_syll))[:n_syll]\n",
    "\n",
    "def get_pitches(data, sampling_frequency, n_syll):\n",
    "    syllables = get_syllables_naive(data, n_syll)\n",
    "    strong_peaks = [get_first_strong_peak(syll, f\"syllable {i}\")\n",
    "        for i, syll in enumerate(syllables)]\n",
    "    base_pitches = [sampling_frequency / peak if peak > 0 else None\n",
    "        for peak, _ in strong_peaks]\n",
    "    final_pitches = [round(pitch, 1) if pitch is not None and 50 < pitch < 500\n",
    "        else None for pitch in base_pitches]\n",
    "    return final_pitches"
   ]
  },
  {
   "cell_type": "code",
   "execution_count": 48,
   "metadata": {},
   "outputs": [
    {
     "name": "stdout",
     "output_type": "stream",
     "text": [
      "聞きます [210.0, 294.0, 294.0, None]\n",
      "買います [229.7, 286.4, 302.1, None]\n",
      "寝ます [212.0, 268.9, None]\n",
      "読みます [198.6, 265.7, 306.2, None]\n",
      "帰ります [212.0, 262.5, 286.4, None, 144.1]\n",
      "行きます [227.3, 298.0, 298.0, None]\n",
      "見ます [214.1, 262.5, 144.1]\n",
      "来ます [237.1, 286.4, None]\n",
      "します [222.7, 272.2, 138.7]\n",
      "勉強します [195.1, 256.4, 272.2, None, 256.4, None, 147.0]\n",
      "起きます [188.5, 279.1, 282.7, None]\n",
      "食べます [206.1, 265.7, 272.2, None]\n",
      "飲みます [204.2, 265.7, 302.1, None]\n",
      "勉強しません [150.0, None, 247.8, 234.6, 229.7, 220.5, 220.5, None]\n",
      "来ません [176.4, 232.1, 232.1, None]\n",
      "飲みません [159.8, 196.9, 234.6, 232.1, None]\n",
      "食べません [163.3, 227.3, 237.1, 222.7, 191.7]\n",
      "買いません [None, None, 232.1, 225.0, None]\n",
      "しません [None, 210.0, 229.7, None]\n",
      "行きません [162.1, 232.1, 237.1, 232.1, None]\n",
      "読みません [158.6, 210.0, 234.6, 222.7, None]\n",
      "寝ません [163.3, 216.2, 234.6, 202.3]\n",
      "起きません [159.8, 242.3, 239.7, 232.1, None]\n",
      "帰りません [None, None, 234.6, 232.1, 227.3, None]\n",
      "見ません [165.8, 204.2, 237.1, 202.3]\n",
      "聞きません [None, 232.1, 232.1, 225.0, None]\n",
      "運動しました [191.7, 253.4, 282.7, 282.7, 268.9, 265.7, None, 137.8]\n",
      "デートしました [162.1, None, None, None, 165.8, 137.0, 128.2]\n",
      "話しました [212.0, 225.0, None, 286.4, None, None]\n",
      "洗濯しました [225.0, 262.5, 272.2, None, 259.4, 253.4, None, None]\n",
      "書きました [202.3, 294.0, 290.1, None, None]\n",
      "入りました [214.1, 229.7, 294.0, 286.4, None, None]\n",
      "乗りました [183.8, None, 286.4, None, None]\n",
      "会いました [175.0, 234.6, 279.1, None, None]\n",
      "旅行しました [185.3, 191.7, 282.7, None, 268.9, None, 138.7]\n",
      "お風呂に入りました [195.1, 315.0, 315.0, 242.3, 195.1, 183.8, 175.0, 170.9, None, 142.3]\n",
      "掃除しました [220.5, 259.4, None, 256.4, 253.4, None, 134.5]\n",
      "浴びました [179.3, 272.2, 298.0, None, None]\n",
      "遊びました [191.7, 282.7, 282.7, 279.1, None, None]\n",
      "泳ぎました [196.9, 282.7, 282.7, 279.1, None, None]\n",
      "作りました [212.0, 294.0, 298.0, 294.0, None, None]\n",
      "写真を撮りました [None, None, 286.4, 282.7, 275.6, 253.4, 253.4, None, None]\n",
      "料理しました [247.8, 315.0, 256.4, None, 158.6, None, 130.5]\n",
      "シャワーを浴びました [262.5, 298.0, 302.1, None, None, 168.3, 163.3, None, None, None]\n",
      "行きますか [204.2, 306.2, 324.3, 133.6, None]\n",
      "寝ますか [183.8, 253.4, None, None]\n",
      "帰りますか [202.3, 268.9, 310.6, 319.6, None, None]\n",
      "買いますか [208.0, 290.1, 315.0, None, None]\n",
      "来ますか [218.3, 294.0, 137.8, None]\n",
      "食べますか [185.3, 268.9, 315.0, None, None]\n",
      "聞きますか [214.1, 302.1, 319.6, 137.8, None]\n",
      "勉強しますか [176.4, 253.4, 282.7, None, 245.0, None, None, None]\n",
      "しますか [222.7, 275.6, 132.8, None]\n",
      "読みますか [177.8, 259.4, 334.1, 136.1, None]\n",
      "飲みますか [193.4, 262.5, 339.2, 132.0, None]\n",
      "見ますか [206.1, 290.1, None, None]\n",
      "起きますか [193.4, 298.0, 319.6, None, None]\n",
      "話しませんでした [195.1, 250.6, None, 286.4, 286.4, 275.6, 195.1, None, None]\n",
      "旅行しませんでした [173.6, 180.7, 268.9, None, 282.7, None, 272.2, None, None, None]\n",
      "料理しませんでした [218.3, 294.0, 242.3, None, 265.7, 279.1, 220.5, None, None, 132.0]\n",
      "乗りませんでした [183.8, 198.6, 290.1, 290.1, 275.6, 195.1, None, None]\n",
      "運動しませんでした [186.9, 234.6, 275.6, 265.7, None, 275.6, 282.7, 237.1, None, None, None]\n",
      "浴びませんでした [180.7, None, 306.2, None, 279.1, 210.0, None, None]\n",
      "シャワーを浴びませんでした [262.5, 286.4, 256.4, None, None, 214.1, 282.7, 298.0, 286.4, 220.5, None, None, None]\n",
      "入りませんでした [202.3, 239.7, 290.1, 286.4, 286.4, 245.0, 170.9, None, None]\n",
      "お風呂に入りませんでした [200.5, 101.6, 306.2, 227.3, 222.7, 234.6, 290.1, 286.4, 290.1, 225.0, None, None, 128.9]\n",
      "泳ぎませんでした [190.1, 253.4, 279.1, 282.7, 286.4, 262.5, 198.6, None, 128.2]\n",
      "作りませんでした [208.0, 290.1, 290.1, 290.1, 290.1, 253.4, None, None, 126.7]\n",
      "遊びまませんでした [188.5, 275.6, 282.7, 282.7, 286.4, 268.9, 200.5, None, None]\n",
      "写真を撮りませんでした [188.5, None, 265.7, 259.4, 173.6, 208.0, 275.6, 294.0, 256.4, None, None, 127.5]\n",
      "掃除しませんでした [218.3, 253.4, None, None, 265.7, 290.1, 250.6, None, None, 123.9]\n",
      "デートしませんでした [239.7, 272.2, 218.3, None, 245.0, None, 286.4, None, None, 132.8]\n",
      "洗濯しませんでした [212.0, 239.7, 256.4, 256.4, None, 247.8, 282.7, 245.0, None, None, 128.2]\n",
      "会いませんでした [186.9, 247.8, 302.1, 298.0, 279.1, 208.0, None, None]\n",
      "書きませんでした [191.7, 185.3, 294.0, 298.0, 290.1, 204.2, None, None]\n"
     ]
    }
   ],
   "source": [
    "from pathlib import Path\n",
    "audio_root = Path(\"./audio\")\n",
    "clips = audio_root.glob(\"Pages/Masu/**/*.wav\")\n",
    "for file in clips:\n",
    "    data, sampling_frequency = librosa.load(file)\n",
    "    n_syllables = len(file.name.split('_')[2].translate({\n",
    "        ord(\"ょ\"): None,\n",
    "        ord(\"ゅ\"): None,\n",
    "        ord(\"ゃ\"): None,\n",
    "        12441: None, # combining dakuten\n",
    "        12442: None  # combining handakuten\n",
    "    }))\n",
    "    pitches = get_pitches(data, sampling_frequency, n_syllables)\n",
    "    print(file.name.split('_')[1], pitches)"
   ]
  },
  {
   "cell_type": "code",
   "execution_count": null,
   "metadata": {},
   "outputs": [],
   "source": []
  }
 ],
 "metadata": {
  "kernelspec": {
   "display_name": "koutei",
   "language": "python",
   "name": "python3"
  },
  "language_info": {
   "codemirror_mode": {
    "name": "ipython",
    "version": 3
   },
   "file_extension": ".py",
   "mimetype": "text/x-python",
   "name": "python",
   "nbconvert_exporter": "python",
   "pygments_lexer": "ipython3",
   "version": "3.10.7"
  },
  "orig_nbformat": 4,
  "vscode": {
   "interpreter": {
    "hash": "5b89340d689fdc020b02ad9550722dcd7f4831b539c9fb1967c42638fe058074"
   }
  }
 },
 "nbformat": 4,
 "nbformat_minor": 2
}
